{
 "cells": [
  {
   "cell_type": "markdown",
   "metadata": {},
   "source": [
    "# Basic API workflow for UMLS\n",
    "\n",
    "This notebook aims to get down the core functions which will make interacting with UMLS much more easy.\n",
    "\n",
    "The goal is to:\n",
    "\n",
    "- Authenticate\n",
    "- Generate single use tickets\n",
    "- Be able to do searches for specific terms\n",
    "- Be able to view the semantic`semanticTypeGroup`"
   ]
  },
  {
   "cell_type": "code",
   "execution_count": 29,
   "metadata": {},
   "outputs": [],
   "source": [
    "import requests\n",
    "import json"
   ]
  },
  {
   "cell_type": "code",
   "execution_count": 42,
   "metadata": {},
   "outputs": [],
   "source": [
    "MY_API_KEY = \"c1d74116-7c2b-49b2-b2f4-e67edc1a1b21\"\n",
    "BASE_URL = \"https://uts-ws.nlm.nih.gov\"\n",
    "TGT = \"TGT-2053-cM07n0EvzCU0VVaYNtwfIVuQZgR4sPZJudErdlFbDzNQuboEcu-cas\" # CHANGE THIS EVERY 8 HOURS"
   ]
  },
  {
   "cell_type": "markdown",
   "metadata": {},
   "source": [
    "### Authentication\n",
    "\n",
    "We need to authenticate using our API key, which will allow us to generate tickets. Each ticket needs to be generated every time a new API request is made (the tickets are single use unfortunately). For now the TGT value being passed in is hardcoded via the `TGT` variable. This is because the POST request route for TGT does not return JSON, but rather it returns HTML. Thought it would be possible to parse out the TGT, it is much easier right now to simply generate a new TGT manually, and then bring it into the Python code."
   ]
  },
  {
   "cell_type": "code",
   "execution_count": 90,
   "metadata": {},
   "outputs": [],
   "source": [
    "def get_ticket():\n",
    "    \"\"\"\n",
    "    Get back a single use ticket. Needs to be used for every API request\n",
    "    Returns: String for the new ticket\n",
    "    \"\"\"\n",
    "    AUTH_URL = \"https://utslogin.nlm.nih.gov\"\n",
    "\n",
    "    url = \"{}/cas/v1/api-key/{}\".format(AUTH_URL,TGT)\n",
    "    try:\n",
    "        res = requests.post(url, data={\"service\": \"http://umlsks.nlm.nih.gov\"})\n",
    "    except requests.exceptions.HTTPError as e:\n",
    "        print(\"Error getting a new ticket. Most likely the TGT needs to be refreshed.\")\n",
    "        print(e)\n",
    "        return\n",
    "    return res.text"
   ]
  },
  {
   "cell_type": "code",
   "execution_count": 91,
   "metadata": {},
   "outputs": [
    {
     "data": {
      "text/plain": [
       "'ST-10680-wkb0mcnTZoVRrqntyaLb-cas'"
      ]
     },
     "execution_count": 91,
     "metadata": {},
     "output_type": "execute_result"
    }
   ],
   "source": [
    "get_ticket()"
   ]
  },
  {
   "cell_type": "markdown",
   "metadata": {},
   "source": [
    "### Searching\n",
    "\n",
    "Being able to search will need to be one of the core functions of this API. This `search()` will allow us to do just that."
   ]
  },
  {
   "cell_type": "code",
   "execution_count": 97,
   "metadata": {},
   "outputs": [],
   "source": [
    "def search(term):\n",
    "    \"\"\"\n",
    "    Able to search for a specific term in the UMLS database\n",
    "    Param: term - search term\n",
    "    Returns: A python object converted from the returned JSON. The search results\n",
    "    \"\"\"\n",
    "    if not term:\n",
    "        raise ValueError('Please provide a search term as a param to the function')\n",
    "        return\n",
    "    \n",
    "    ticket = get_ticket() # Need to get a fresh ticket every time\n",
    "    \n",
    "    url = \"{}/rest/search/current\".format(BASE_URL)\n",
    "    res = requests.get(url, params={\"string\": term, \"searchType\": \"words\", \"ticket\": ticket})\n",
    "    return res.json()"
   ]
  },
  {
   "cell_type": "code",
   "execution_count": 98,
   "metadata": {},
   "outputs": [],
   "source": [
    "suicide_search = search(\"suicide\")"
   ]
  },
  {
   "cell_type": "code",
   "execution_count": 99,
   "metadata": {},
   "outputs": [
    {
     "data": {
      "text/plain": [
       "{'pageSize': 25,\n",
       " 'pageNumber': 1,\n",
       " 'result': {'classType': 'searchResults',\n",
       "  'results': [{'ui': 'C0038661',\n",
       "    'rootSource': 'MTH',\n",
       "    'uri': 'https://uts-ws.nlm.nih.gov/rest/content/2018AA/CUI/C0038661',\n",
       "    'name': 'Suicide'},\n",
       "   {'ui': 'C0812393',\n",
       "    'rootSource': 'MTH',\n",
       "    'uri': 'https://uts-ws.nlm.nih.gov/rest/content/2018AA/CUI/C0812393',\n",
       "    'name': 'Cancer patients and suicide and depression'},\n",
       "   {'ui': 'C0852733',\n",
       "    'rootSource': 'MTH',\n",
       "    'uri': 'https://uts-ws.nlm.nih.gov/rest/content/2018AA/CUI/C0852733',\n",
       "    'name': 'Completed Suicide'},\n",
       "   {'ui': 'C0418299',\n",
       "    'rootSource': 'SNOMEDCT_US',\n",
       "    'uri': 'https://uts-ws.nlm.nih.gov/rest/content/2018AA/CUI/C0418299',\n",
       "    'name': 'Suicide or attempted suicide by hanging'},\n",
       "   {'ui': 'C0418301',\n",
       "    'rootSource': 'SNOMEDCT_US',\n",
       "    'uri': 'https://uts-ws.nlm.nih.gov/rest/content/2018AA/CUI/C0418301',\n",
       "    'name': 'Suicide or attempted suicide by drowning'},\n",
       "   {'ui': 'C0851163',\n",
       "    'rootSource': 'MTH',\n",
       "    'uri': 'https://uts-ws.nlm.nih.gov/rest/content/2018AA/CUI/C0851163',\n",
       "    'name': 'Suicide or suicide attempt'},\n",
       "   {'ui': 'C0038663',\n",
       "    'rootSource': 'MTH',\n",
       "    'uri': 'https://uts-ws.nlm.nih.gov/rest/content/2018AA/CUI/C0038663',\n",
       "    'name': 'Suicide attempt'},\n",
       "   {'ui': 'C0162665',\n",
       "    'rootSource': 'MSH',\n",
       "    'uri': 'https://uts-ws.nlm.nih.gov/rest/content/2018AA/CUI/C0162665',\n",
       "    'name': 'Suicide, Assisted'},\n",
       "   {'ui': 'C0204732',\n",
       "    'rootSource': 'SNOMEDCT_US',\n",
       "    'uri': 'https://uts-ws.nlm.nih.gov/rest/content/2018AA/CUI/C0204732',\n",
       "    'name': 'Suicide prevention'},\n",
       "   {'ui': 'C0235196',\n",
       "    'rootSource': 'MDR',\n",
       "    'uri': 'https://uts-ws.nlm.nih.gov/rest/content/2018AA/CUI/C0235196',\n",
       "    'name': 'Suicidal tendency'},\n",
       "   {'ui': 'C0277683',\n",
       "    'rootSource': 'SNOMEDCT_US',\n",
       "    'uri': 'https://uts-ws.nlm.nih.gov/rest/content/2018AA/CUI/C0277683',\n",
       "    'name': 'Undetermined manner of death, suicide suspected'},\n",
       "   {'ui': 'C0338230',\n",
       "    'rootSource': 'PDQ',\n",
       "    'uri': 'https://uts-ws.nlm.nih.gov/rest/content/2018AA/CUI/C0338230',\n",
       "    'name': 'cancer and suicide'},\n",
       "   {'ui': 'C0424000',\n",
       "    'rootSource': 'MTH',\n",
       "    'uri': 'https://uts-ws.nlm.nih.gov/rest/content/2018AA/CUI/C0424000',\n",
       "    'name': 'Feeling suicidal (finding)'},\n",
       "   {'ui': 'C0424001',\n",
       "    'rootSource': 'SNOMEDCT_US',\n",
       "    'uri': 'https://uts-ws.nlm.nih.gov/rest/content/2018AA/CUI/C0424001',\n",
       "    'name': 'Planning suicide'},\n",
       "   {'ui': 'C0455386',\n",
       "    'rootSource': 'SNOMEDCT_US',\n",
       "    'uri': 'https://uts-ws.nlm.nih.gov/rest/content/2018AA/CUI/C0455386',\n",
       "    'name': 'FH: Suicide'},\n",
       "   {'ui': 'C0524345',\n",
       "    'rootSource': 'MDR',\n",
       "    'uri': 'https://uts-ws.nlm.nih.gov/rest/content/2018AA/CUI/C0524345',\n",
       "    'name': 'Suicide of relative'},\n",
       "   {'ui': 'C0563664',\n",
       "    'rootSource': 'SNOMEDCT_US',\n",
       "    'uri': 'https://uts-ws.nlm.nih.gov/rest/content/2018AA/CUI/C0563664',\n",
       "    'name': 'At risk for suicide'},\n",
       "   {'ui': 'C0564928',\n",
       "    'rootSource': 'SNOMEDCT_US',\n",
       "    'uri': 'https://uts-ws.nlm.nih.gov/rest/content/2018AA/CUI/C0564928',\n",
       "    'name': 'Suicide - hanging'},\n",
       "   {'ui': 'C0564929',\n",
       "    'rootSource': 'SNOMEDCT_US',\n",
       "    'uri': 'https://uts-ws.nlm.nih.gov/rest/content/2018AA/CUI/C0564929',\n",
       "    'name': 'Suicide - suffocation'},\n",
       "   {'ui': 'C0564930',\n",
       "    'rootSource': 'SNOMEDCT_US',\n",
       "    'uri': 'https://uts-ws.nlm.nih.gov/rest/content/2018AA/CUI/C0564930',\n",
       "    'name': 'Suicide - drowning'},\n",
       "   {'ui': 'C0564931',\n",
       "    'rootSource': 'SNOMEDCT_US',\n",
       "    'uri': 'https://uts-ws.nlm.nih.gov/rest/content/2018AA/CUI/C0564931',\n",
       "    'name': 'Suicide - firearms'},\n",
       "   {'ui': 'C0595861',\n",
       "    'rootSource': 'MSH',\n",
       "    'uri': 'https://uts-ws.nlm.nih.gov/rest/content/2018AA/CUI/C0595861',\n",
       "    'name': 'Parasuicide'},\n",
       "   {'ui': 'C0683917',\n",
       "    'rootSource': 'AOD',\n",
       "    'uri': 'https://uts-ws.nlm.nih.gov/rest/content/2018AA/CUI/C0683917',\n",
       "    'name': 'suicide mortality'},\n",
       "   {'ui': 'C0856042',\n",
       "    'rootSource': 'MDR',\n",
       "    'uri': 'https://uts-ws.nlm.nih.gov/rest/content/2018AA/CUI/C0856042',\n",
       "    'name': 'Suicide of spouse'},\n",
       "   {'ui': 'C0856306',\n",
       "    'rootSource': 'MDR',\n",
       "    'uri': 'https://uts-ws.nlm.nih.gov/rest/content/2018AA/CUI/C0856306',\n",
       "    'name': 'Unsuccessful suicide'}]}}"
      ]
     },
     "execution_count": 99,
     "metadata": {},
     "output_type": "execute_result"
    }
   ],
   "source": [
    "suicide_search"
   ]
  },
  {
   "cell_type": "markdown",
   "metadata": {},
   "source": [
    "### Semantic Groupings\n",
    "\n",
    "The process of semantic groupings involves looking up information on the term, and getting a TUI code. The TUI code is the identifier which can then be referenced in the semantic network.\n",
    "\n",
    "So what we need to do is:\n",
    "\n",
    "- Look up a term using its `ui` code (called the CUI) and get the TUI code from the URL of semanticTypes\n",
    "- Get the semantic types from the semantics api end point"
   ]
  },
  {
   "cell_type": "code",
   "execution_count": 78,
   "metadata": {},
   "outputs": [],
   "source": [
    "def get_tui(cui):\n",
    "    \"\"\"\n",
    "    Given a CUI code, this function gets the TUI for the semantic groupings\n",
    "    Params: ui - the CUI code for a specific term\n",
    "    Returns: tui - string of the TUI id\n",
    "    \"\"\"\n",
    "    if not cui:\n",
    "        raise ValueError('Please provide a CUI code for a specific term')\n",
    "        return\n",
    "    \n",
    "    ticket = get_ticket() # Need to get a fresh ticket every time\n",
    "    \n",
    "    url = \"{}/rest/content/current/CUI/{}\".format(BASE_URL, cui)\n",
    "    res = requests.get(url, params={\"ticket\":ticket})\n",
    "    obj = res.json()\n",
    "    return obj['result']['semanticTypes'][0]['uri'].split('TUI/')[1]"
   ]
  },
  {
   "cell_type": "code",
   "execution_count": 101,
   "metadata": {},
   "outputs": [
    {
     "data": {
      "text/plain": [
       "'T048'"
      ]
     },
     "execution_count": 101,
     "metadata": {},
     "output_type": "execute_result"
    }
   ],
   "source": [
    "get_tui(\"C0812393\")"
   ]
  },
  {
   "cell_type": "code",
   "execution_count": 92,
   "metadata": {},
   "outputs": [],
   "source": [
    "def get_semantic_info(tui):\n",
    "    \"\"\"\n",
    "    Provided a TUI id, this function gets the semantic type information for a specific TUI\n",
    "    Params: TUI - string for the TUI\n",
    "    Returns: object - the python object for the response for the API request\n",
    "    \"\"\"\n",
    "    if not tui:\n",
    "        raise ValueError('Please provide a TUI code')\n",
    "        return\n",
    "    \n",
    "    ticket = get_ticket() # Need to get a fresh ticket every time\n",
    "    \n",
    "    url = \"{}/rest/semantic-network/current/TUI/{}\".format(BASE_URL, tui)\n",
    "    res = requests.get(url, params={\"ticket\":ticket})\n",
    "    return res.json()"
   ]
  },
  {
   "cell_type": "code",
   "execution_count": 102,
   "metadata": {},
   "outputs": [
    {
     "data": {
      "text/plain": [
       "{'pageSize': 25,\n",
       " 'pageNumber': 1,\n",
       " 'pageCount': 1,\n",
       " 'result': {'classType': 'SemanticType',\n",
       "  'abbreviation': 'mobd',\n",
       "  'ui': 'T048',\n",
       "  'definition': 'A clinically significant dysfunction whose major manifestation is behavioral or psychological. These dysfunctions may have identified or presumed biological etiologies or manifestations.',\n",
       "  'example': 'NONE',\n",
       "  'nonHuman': 'NONE',\n",
       "  'usageNote': 'NONE',\n",
       "  'treeNumber': 'B2.2.1.2.1.1',\n",
       "  'semanticTypeGroup': {'classType': 'SemanticGroup',\n",
       "   'abbreviation': 'DISO',\n",
       "   'expandedForm': 'Disorders',\n",
       "   'semanticTypeCount': 12},\n",
       "  'childCount': 0,\n",
       "  'name': 'Mental or Behavioral Dysfunction'}}"
      ]
     },
     "execution_count": 102,
     "metadata": {},
     "output_type": "execute_result"
    }
   ],
   "source": [
    "semantic_info = get_semantic_info(\"T048\")\n",
    "semantic_info"
   ]
  },
  {
   "cell_type": "code",
   "execution_count": 103,
   "metadata": {},
   "outputs": [
    {
     "data": {
      "text/plain": [
       "{'classType': 'SemanticGroup',\n",
       " 'abbreviation': 'DISO',\n",
       " 'expandedForm': 'Disorders',\n",
       " 'semanticTypeCount': 12}"
      ]
     },
     "execution_count": 103,
     "metadata": {},
     "output_type": "execute_result"
    }
   ],
   "source": [
    "semantic_info['result']['semanticTypeGroup']"
   ]
  },
  {
   "cell_type": "markdown",
   "metadata": {},
   "source": [
    "Look into relations: https://documentation.uts.nlm.nih.gov/rest/relations/\n",
    "For the various relationships: https://www.nlm.nih.gov/research/umls/knowledge_sources/metathesaurus/release/abbreviations.html\n",
    "Gathering the synonyms"
   ]
  }
 ],
 "metadata": {
  "kernelspec": {
   "display_name": "Python 3",
   "language": "python",
   "name": "python3"
  },
  "language_info": {
   "codemirror_mode": {
    "name": "ipython",
    "version": 3
   },
   "file_extension": ".py",
   "mimetype": "text/x-python",
   "name": "python",
   "nbconvert_exporter": "python",
   "pygments_lexer": "ipython3",
   "version": "3.6.5"
  }
 },
 "nbformat": 4,
 "nbformat_minor": 2
}
